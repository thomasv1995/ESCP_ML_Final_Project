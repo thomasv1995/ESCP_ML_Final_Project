{
 "cells": [
  {
   "cell_type": "markdown",
   "metadata": {},
   "source": [
    "# ML Final Project: Predicting Sex and Age based on Search Keywords\n",
    "\n",
    "### *Group 9: Amélie Pingeot, Taanya Sachdeva, Maxime Pracisnore, Maximilian Baum, Thomas Vermaelen*"
   ]
  },
  {
   "cell_type": "code",
   "execution_count": 1,
   "metadata": {},
   "outputs": [
    {
     "name": "stderr",
     "output_type": "stream",
     "text": [
      "Using TensorFlow backend.\n"
     ]
    }
   ],
   "source": [
    "import os\n",
    "import pandas as pd\n",
    "import numpy as np\n",
    "import re\n",
    "from nltk.corpus import stopwords\n",
    "from sklearn.feature_extraction.text import TfidfVectorizer\n",
    "from sklearn.metrics import classification_report, auc, roc_curve\n",
    "from nltk.stem.snowball import SnowballStemmer\n",
    "import seaborn as sns\n",
    "import matplotlib.pyplot as plt\n",
    "from nltk.tokenize import TweetTokenizer\n",
    "from sklearn.model_selection import StratifiedKFold\n",
    "from scipy import sparse, interp\n",
    "import spacy\n",
    "from sklearn.linear_model import LinearRegression\n",
    "from sklearn.linear_model import LogisticRegression\n",
    "from sklearn.naive_bayes import MultinomialNB\n",
    "from sklearn.ensemble import RandomForestClassifier\n",
    "from gensim.models.word2vec import Word2Vec\n",
    "from keras.preprocessing.text import Tokenizer\n",
    "from keras.models import Sequential\n",
    "from keras.layers import Activation, Dense\n",
    "from sklearn.preprocessing import LabelBinarizer\n",
    "from keras.callbacks import EarlyStopping\n",
    "from keras.callbacks import ModelCheckpoint\n",
    "import random\n",
    "from sklearn.preprocessing import StandardScaler\n",
    "from sklearn.model_selection import train_test_split\n",
    "from sklearn.model_selection import cross_val_score\n",
    "import statistics\n",
    "import math\n",
    "from sklearn import metrics\n",
    "import warnings\n",
    "warnings.filterwarnings(\"ignore\", category=UserWarning)\n",
    "warnings.filterwarnings(\"ignore\", category=DeprecationWarning)"
   ]
  },
  {
   "cell_type": "markdown",
   "metadata": {},
   "source": [
    "## I. Data Preparation"
   ]
  },
  {
   "cell_type": "code",
   "execution_count": 2,
   "metadata": {},
   "outputs": [
    {
     "data": {
      "text/html": [
       "<div>\n",
       "<style scoped>\n",
       "    .dataframe tbody tr th:only-of-type {\n",
       "        vertical-align: middle;\n",
       "    }\n",
       "\n",
       "    .dataframe tbody tr th {\n",
       "        vertical-align: top;\n",
       "    }\n",
       "\n",
       "    .dataframe thead th {\n",
       "        text-align: right;\n",
       "    }\n",
       "</style>\n",
       "<table border=\"1\" class=\"dataframe\">\n",
       "  <thead>\n",
       "    <tr style=\"text-align: right;\">\n",
       "      <th></th>\n",
       "      <th>ID</th>\n",
       "      <th>keywords</th>\n",
       "      <th>age</th>\n",
       "      <th>sex</th>\n",
       "    </tr>\n",
       "  </thead>\n",
       "  <tbody>\n",
       "    <tr>\n",
       "      <th>3901146</th>\n",
       "      <td>612587</td>\n",
       "      <td>france:1;meteo:1;rochelle:1;previsions:1;ville:1</td>\n",
       "      <td>48</td>\n",
       "      <td>F</td>\n",
       "    </tr>\n",
       "    <tr>\n",
       "      <th>4520225</th>\n",
       "      <td>91239</td>\n",
       "      <td>definition:1;instruction:1;juridique:1;faq:1</td>\n",
       "      <td>49</td>\n",
       "      <td>F</td>\n",
       "    </tr>\n",
       "    <tr>\n",
       "      <th>5660679</th>\n",
       "      <td>15229</td>\n",
       "      <td>ligue:1;champions:1;cinq:1;actualites:1;des:1;...</td>\n",
       "      <td>55</td>\n",
       "      <td>M</td>\n",
       "    </tr>\n",
       "    <tr>\n",
       "      <th>230078</th>\n",
       "      <td>308637</td>\n",
       "      <td>detail_offre:1;emploi:1</td>\n",
       "      <td>37</td>\n",
       "      <td>M</td>\n",
       "    </tr>\n",
       "    <tr>\n",
       "      <th>2640202</th>\n",
       "      <td>292989</td>\n",
       "      <td>rapides:1;faciles:1;enfants:1;recettes:1;pour:...</td>\n",
       "      <td>65</td>\n",
       "      <td>M</td>\n",
       "    </tr>\n",
       "  </tbody>\n",
       "</table>\n",
       "</div>"
      ],
      "text/plain": [
       "             ID                                           keywords  age sex\n",
       "3901146  612587   france:1;meteo:1;rochelle:1;previsions:1;ville:1   48   F\n",
       "4520225   91239       definition:1;instruction:1;juridique:1;faq:1   49   F\n",
       "5660679   15229  ligue:1;champions:1;cinq:1;actualites:1;des:1;...   55   M\n",
       "230078   308637                            detail_offre:1;emploi:1   37   M\n",
       "2640202  292989  rapides:1;faciles:1;enfants:1;recettes:1;pour:...   65   M"
      ]
     },
     "execution_count": 2,
     "metadata": {},
     "output_type": "execute_result"
    }
   ],
   "source": [
    "os.chdir(\"/Users/thomasvermaelen/Documents/ESCP/Machine Learning in Python/Default Final Project\")\n",
    "nlp = spacy.load(\"fr_core_news_sm\")\n",
    "data_train = pd.read_csv(\"train.csv\")\n",
    "data_train = data_train.dropna().copy()\n",
    "samp_size = 20000\n",
    "data_train= data_train.sample(n=samp_size, random_state=123)\n",
    "data_train.head()"
   ]
  },
  {
   "cell_type": "markdown",
   "metadata": {},
   "source": [
    "Class repartition of the target variable 'Sex'"
   ]
  },
  {
   "cell_type": "code",
   "execution_count": 3,
   "metadata": {},
   "outputs": [
    {
     "data": {
      "text/plain": [
       "<matplotlib.axes._subplots.AxesSubplot at 0x1a9eaeb4d0>"
      ]
     },
     "execution_count": 3,
     "metadata": {},
     "output_type": "execute_result"
    },
    {
     "data": {
      "image/png": "[encoded data removed]",
      "text/plain": [
       "<Figure size 360x144 with 1 Axes>"
      ]
     },
     "metadata": {
      "needs_background": "light"
     },
     "output_type": "display_data"
    }
   ],
   "source": [
    "ax  = plt.figure(figsize=(5,2))\n",
    "sns.countplot(data=data_train, x='sex')"
   ]
  },
  {
   "cell_type": "code",
   "execution_count": 4,
   "metadata": {},
   "outputs": [
    {
     "data": {
      "text/html": [
       "<div>\n",
       "<style scoped>\n",
       "    .dataframe tbody tr th:only-of-type {\n",
       "        vertical-align: middle;\n",
       "    }\n",
       "\n",
       "    .dataframe tbody tr th {\n",
       "        vertical-align: top;\n",
       "    }\n",
       "\n",
       "    .dataframe thead th {\n",
       "        text-align: right;\n",
       "    }\n",
       "</style>\n",
       "<table border=\"1\" class=\"dataframe\">\n",
       "  <thead>\n",
       "    <tr style=\"text-align: right;\">\n",
       "      <th></th>\n",
       "      <th>ID</th>\n",
       "      <th>keywords</th>\n",
       "      <th>age</th>\n",
       "      <th>sex</th>\n",
       "      <th>frequency</th>\n",
       "      <th>words</th>\n",
       "      <th>words_stem</th>\n",
       "      <th>text</th>\n",
       "      <th>text_token</th>\n",
       "    </tr>\n",
       "  </thead>\n",
       "  <tbody>\n",
       "    <tr>\n",
       "      <th>3901146</th>\n",
       "      <td>612587</td>\n",
       "      <td>;france:1;meteo:1;rochelle:1;previsions:1;vill...</td>\n",
       "      <td>48</td>\n",
       "      <td>F</td>\n",
       "      <td>[1, 1, 1, 1, 1]</td>\n",
       "      <td>[france, meteo, rochelle, previsions, ville]</td>\n",
       "      <td>[franc, meteo, rochel, previs, vill]</td>\n",
       "      <td>franc meteo rochel previs vill</td>\n",
       "      <td>[franc, meteo, rochel, previs, vill]</td>\n",
       "    </tr>\n",
       "    <tr>\n",
       "      <th>4520225</th>\n",
       "      <td>91239</td>\n",
       "      <td>;definition:1;instruction:1;juridique:1;faq:1;</td>\n",
       "      <td>49</td>\n",
       "      <td>F</td>\n",
       "      <td>[1, 1, 1, 1]</td>\n",
       "      <td>[definition, instruction, juridique, faq]</td>\n",
       "      <td>[definit, instruct, jurid, faq]</td>\n",
       "      <td>definit instruct jurid faq</td>\n",
       "      <td>[definit, instruct, jurid, faq]</td>\n",
       "    </tr>\n",
       "    <tr>\n",
       "      <th>5660679</th>\n",
       "      <td>15229</td>\n",
       "      <td>;ligue:1;champions:1;cinq:1;actualites:1;des:1...</td>\n",
       "      <td>55</td>\n",
       "      <td>M</td>\n",
       "      <td>[1, 1, 1, 1, 1, 1, 1, 1, 1, 1, 1, 1]</td>\n",
       "      <td>[ligue, champions, cinq, actualites, des, foot...</td>\n",
       "      <td>[ligu, champion, cinq, actualit, de, football,...</td>\n",
       "      <td>ligu champion cinq actualit de football suivr ...</td>\n",
       "      <td>[ligu, champion, cinq, actualit, de, football,...</td>\n",
       "    </tr>\n",
       "    <tr>\n",
       "      <th>230078</th>\n",
       "      <td>308637</td>\n",
       "      <td>;detail_offre:1;emploi:1;</td>\n",
       "      <td>37</td>\n",
       "      <td>M</td>\n",
       "      <td>[1, 1]</td>\n",
       "      <td>[detail_offre, emploi]</td>\n",
       "      <td>[detail_offr, emploi]</td>\n",
       "      <td>detail offr emploi</td>\n",
       "      <td>[detail, offr, emploi]</td>\n",
       "    </tr>\n",
       "    <tr>\n",
       "      <th>2640202</th>\n",
       "      <td>292989</td>\n",
       "      <td>;rapides:1;faciles:1;enfants:1;recettes:1;pour...</td>\n",
       "      <td>65</td>\n",
       "      <td>M</td>\n",
       "      <td>[1, 1, 1, 1, 1, 1, 1, 1, 1, 1, 1]</td>\n",
       "      <td>[rapides, faciles, enfants, recettes, pour, pl...</td>\n",
       "      <td>[rapid, facil, enfant, recet, pour, plus, nos,...</td>\n",
       "      <td>rapid facil enfant recet pour plus nos rentre ...</td>\n",
       "      <td>[rapid, facil, enfant, recet, pour, plus, nos,...</td>\n",
       "    </tr>\n",
       "  </tbody>\n",
       "</table>\n",
       "</div>"
      ],
      "text/plain": [
       "             ID                                           keywords  age sex  \\\n",
       "3901146  612587  ;france:1;meteo:1;rochelle:1;previsions:1;vill...   48   F   \n",
       "4520225   91239     ;definition:1;instruction:1;juridique:1;faq:1;   49   F   \n",
       "5660679   15229  ;ligue:1;champions:1;cinq:1;actualites:1;des:1...   55   M   \n",
       "230078   308637                          ;detail_offre:1;emploi:1;   37   M   \n",
       "2640202  292989  ;rapides:1;faciles:1;enfants:1;recettes:1;pour...   65   M   \n",
       "\n",
       "                                    frequency  \\\n",
       "3901146                       [1, 1, 1, 1, 1]   \n",
       "4520225                          [1, 1, 1, 1]   \n",
       "5660679  [1, 1, 1, 1, 1, 1, 1, 1, 1, 1, 1, 1]   \n",
       "230078                                 [1, 1]   \n",
       "2640202     [1, 1, 1, 1, 1, 1, 1, 1, 1, 1, 1]   \n",
       "\n",
       "                                                     words  \\\n",
       "3901146       [france, meteo, rochelle, previsions, ville]   \n",
       "4520225          [definition, instruction, juridique, faq]   \n",
       "5660679  [ligue, champions, cinq, actualites, des, foot...   \n",
       "230078                              [detail_offre, emploi]   \n",
       "2640202  [rapides, faciles, enfants, recettes, pour, pl...   \n",
       "\n",
       "                                                words_stem  \\\n",
       "3901146               [franc, meteo, rochel, previs, vill]   \n",
       "4520225                    [definit, instruct, jurid, faq]   \n",
       "5660679  [ligu, champion, cinq, actualit, de, football,...   \n",
       "230078                               [detail_offr, emploi]   \n",
       "2640202  [rapid, facil, enfant, recet, pour, plus, nos,...   \n",
       "\n",
       "                                                      text  \\\n",
       "3901146                    franc meteo rochel previs vill    \n",
       "4520225                        definit instruct jurid faq    \n",
       "5660679  ligu champion cinq actualit de football suivr ...   \n",
       "230078                                 detail offr emploi    \n",
       "2640202  rapid facil enfant recet pour plus nos rentre ...   \n",
       "\n",
       "                                                text_token  \n",
       "3901146               [franc, meteo, rochel, previs, vill]  \n",
       "4520225                    [definit, instruct, jurid, faq]  \n",
       "5660679  [ligu, champion, cinq, actualit, de, football,...  \n",
       "230078                              [detail, offr, emploi]  \n",
       "2640202  [rapid, facil, enfant, recet, pour, plus, nos,...  "
      ]
     },
     "execution_count": 4,
     "metadata": {},
     "output_type": "execute_result"
    }
   ],
   "source": [
    "def clean_text(df):   \n",
    "    #this will help for regex matching\n",
    "    df.keywords = \";\"+df.keywords+\";\"\n",
    "    df.keywords = [keyword.lower() for keyword in df.keywords]\n",
    "    # seperate frequencies from words\n",
    "    df[\"frequency\"] = [list(map(int, re.findall(\":(.+?);\",text)))  for text in df.keywords]\n",
    "    df[\"words\"] = [re.findall(\";(.+?):\",text) for text in df.keywords]\n",
    "    stemmer = SnowballStemmer(language='french')\n",
    "    df[\"words_stem\"] = [[stemmer.stem(word) for word in words] for words in df.words]\n",
    "    \n",
    "    # multiply words by their respective frequencies\n",
    "    df[\"text\"] = [[(word+\" \") * freq for word, freq in zip(words, freqs)] for words, freqs in zip(df.words_stem, df.frequency)]\n",
    "    df[\"text\"] = [\"\".join(text) for text in df.text]\n",
    "    df[\"text\"] = [re.sub(r'\\w*[0-9]\\w*', \"\",text) for text in df.text]\n",
    "    df[\"text\"] = [re.sub(r'\\w*html\\w*', '', text) for text in df.text]\n",
    "    df[\"text\"] = [re.sub(r'\\w*%\\w*', '', text) for text in df.text]\n",
    "    df[\"text\"]= [re.sub('[!\"#%\\'()*+,./:;<=>?@\\[\\]^_`{|}~’”“′‘\\\\\\]',' ', text) for text in df.text]\n",
    "    \n",
    "    tokenizer = TweetTokenizer()\n",
    "    df[\"text_token\"] = df[\"text\"].apply(tokenizer.tokenize)\n",
    "    return(df)\n",
    "data_train = clean_text(data_train)\n",
    "data_train.head()"
   ]
  },
  {
   "cell_type": "markdown",
   "metadata": {},
   "source": [
    "Train/Test Split"
   ]
  },
  {
   "cell_type": "code",
   "execution_count": 5,
   "metadata": {},
   "outputs": [],
   "source": [
    "X =  data_train.text\n",
    "sex= data_train.sex.map({'F':1, 'M':0})\n",
    "X_train, X_test, sex_train, sex_test = train_test_split(X,sex, test_size=0.2, random_state=123)\n",
    "age_train = data_train.loc[X_train.index,:].age\n",
    "age_test = data_train.loc[X_test.index,:].age"
   ]
  },
  {
   "cell_type": "code",
   "execution_count": 6,
   "metadata": {},
   "outputs": [],
   "source": [
    "# this function plots roc curves using 5-Fold cross validation\n",
    "def plot_roc_cv(x_train, x_test, y_train, y_test, clf, model_name):\n",
    "    y_train.index = range(len(y_train))\n",
    "    cv = StratifiedKFold(n_splits=5)\n",
    "    tprs = []\n",
    "    aucs = []\n",
    "    mean_fpr = np.linspace(0, 1, 500)\n",
    "    random.seed(123)\n",
    "    for i, (train, test) in enumerate(cv.split(x_train, y_train)):\n",
    "        clf.fit(x_train[train], y_train[train])\n",
    "        proba_val= clf.predict_proba(x_train[test])[:,1]\n",
    "        fpr_val,tpr_val,cutoffs = roc_curve(y_train[test], proba_val)\n",
    "        interp_tpr = interp(mean_fpr, fpr_val, tpr_val)\n",
    "        interp_tpr[0] = 0.0\n",
    "        tprs.append(interp_tpr)\n",
    "        aucs.append(auc(fpr_val, tpr_val))   \n",
    "    mean_tpr = np.mean(tprs, axis=0)\n",
    "    mean_tpr[-1] = 1.0\n",
    "    mean_auc = auc(mean_fpr, mean_tpr)\n",
    "    \n",
    "    pred_test = clf.predict(x_test)\n",
    "    prob_test= clf.predict_proba(x_test)[:,1]\n",
    "    fpr_test, tpr_test, cutoffs = roc_curve(y_test, prob_test)\n",
    "    print(\"Classification report for test set:\")\n",
    "    print(classification_report(y_test,pred_test))\n",
    "    plt.title(\"ROC Curve for {} Model of Sex\".format(model_name))\n",
    "    plt.ylabel(\"True Positive Rate\")\n",
    "    plt.xlabel(\"False Positive Rate\")\n",
    "    roc_train, = plt.plot(mean_fpr, mean_tpr, \n",
    "                          label =\"Mean AUC train (5-fold CV): {:.3}\".format(mean_auc), \n",
    "                          c= \"blue\")\n",
    "    roc_test, = plt.plot(fpr_test, tpr_test, \n",
    "                         label =\"AUC test: {:.3}\".format(auc(fpr_test, tpr_test)),\n",
    "                         c= \"orange\")\n",
    "\n",
    "    chance, = plt.plot([0, 1], [0, 1], linestyle='--', lw=2, color='r',\n",
    "                       label = \"Chance\", alpha=.8)\n",
    "    plt.legend(handles=[roc_train,roc_test, chance])"
   ]
  },
  {
   "cell_type": "markdown",
   "metadata": {},
   "source": [
    "## II. Modeling Sex"
   ]
  },
  {
   "cell_type": "markdown",
   "metadata": {},
   "source": [
    "### II. A)  Tf-Idf with Full Vocabulary"
   ]
  },
  {
   "cell_type": "code",
   "execution_count": 7,
   "metadata": {},
   "outputs": [
    {
     "name": "stdout",
     "output_type": "stream",
     "text": [
      "Length of Full Vocab: 21033\n"
     ]
    }
   ],
   "source": [
    "# FULL VOCAB \n",
    "stop_words = stopwords.words('french') + stopwords.words('english')\n",
    "# tokenize and build initial vocabulary\n",
    "tfidf_vect_full = TfidfVectorizer(stop_words=stop_words)\n",
    "tfidf_vect_full.fit(X_train)\n",
    "print(\"Length of Full Vocab: {}\".format(len(tfidf_vect_full.vocabulary_)))"
   ]
  },
  {
   "cell_type": "code",
   "execution_count": 8,
   "metadata": {},
   "outputs": [],
   "source": [
    "# TRAIN FULL VOCAB\n",
    "X_train_full_vocab = tfidf_vect_full.transform(X_train)\n",
    "X_test_full_vocab = tfidf_vect_full.transform(X_test)\n"
   ]
  },
  {
   "cell_type": "markdown",
   "metadata": {},
   "source": [
    "#### Logistic Regression (Tf-Idf Full Vocab)"
   ]
  },
  {
   "cell_type": "code",
   "execution_count": 9,
   "metadata": {},
   "outputs": [
    {
     "name": "stdout",
     "output_type": "stream",
     "text": [
      "Classification report for test set:\n",
      "              precision    recall  f1-score   support\n",
      "\n",
      "           0       0.60      0.70      0.64      2112\n",
      "           1       0.58      0.47      0.52      1888\n",
      "\n",
      "    accuracy                           0.59      4000\n",
      "   macro avg       0.59      0.58      0.58      4000\n",
      "weighted avg       0.59      0.59      0.58      4000\n",
      "\n"
     ]
    },
    {
     "data": {
      "image/png": "[encoded data removed]",
      "text/plain": [
       "<Figure size 432x288 with 1 Axes>"
      ]
     },
     "metadata": {
      "needs_background": "light"
     },
     "output_type": "display_data"
    }
   ],
   "source": [
    "lr_mod = LogisticRegression(penalty='l2', max_iter = 1000)\n",
    "plot_roc_cv(X_train_full_vocab,X_test_full_vocab, sex_train,sex_test, lr_mod, \"Logistic Regression\")\n"
   ]
  },
  {
   "cell_type": "markdown",
   "metadata": {},
   "source": [
    "#### Multinomial Naive Bayes (Tf-Idf Full Vocab)"
   ]
  },
  {
   "cell_type": "code",
   "execution_count": 10,
   "metadata": {},
   "outputs": [
    {
     "name": "stdout",
     "output_type": "stream",
     "text": [
      "Classification report for test set:\n",
      "              precision    recall  f1-score   support\n",
      "\n",
      "           0       0.58      0.78      0.67      2112\n",
      "           1       0.60      0.38      0.47      1888\n",
      "\n",
      "    accuracy                           0.59      4000\n",
      "   macro avg       0.59      0.58      0.57      4000\n",
      "weighted avg       0.59      0.59      0.57      4000\n",
      "\n"
     ]
    },
    {
     "data": {
      "image/png": "[encoded data removed]",
      "text/plain": [
       "<Figure size 432x288 with 1 Axes>"
      ]
     },
     "metadata": {
      "needs_background": "light"
     },
     "output_type": "display_data"
    }
   ],
   "source": [
    "mnb_mod = MultinomialNB()\n",
    "plot_roc_cv(X_train_full_vocab,X_test_full_vocab, sex_train,sex_test, mnb_mod, \"Multi. Naive Bayes\")"
   ]
  },
  {
   "cell_type": "markdown",
   "metadata": {},
   "source": [
    "### II. B) Tf-Idf with Reduced Vocabulary (Nouns and Verbs only)"
   ]
  },
  {
   "cell_type": "code",
   "execution_count": 11,
   "metadata": {},
   "outputs": [
    {
     "name": "stdout",
     "output_type": "stream",
     "text": [
      "Length of New Vocab: 13428\n"
     ]
    }
   ],
   "source": [
    "############# NEW VOCAB ########################\n",
    "# retrieve nouns and verbs only from vocabulary\n",
    "voc= tfidf_vect_full.vocabulary_ \n",
    "voc_keys = list(voc.keys())\n",
    "voc_keys = nlp(\" \".join(voc_keys))\n",
    "voc_tags = [word for word in voc_keys if word.pos_==\"NOUN\" or word.pos_==\"PROPN\" or word.pos_==\"VERB\" ]\n",
    "\n",
    "# voc_tags = [word for word in voc_keys if word.pos_==\"NOUN\" or  word.pos_==\"VERB\" or word.pos_==\"PROPN\"or word.pos_==\"ADJ\"or word.pos_==\"ADV\"]\n",
    "nouns_verbs = [str(voc_tags[i]) for i in range(len(voc_tags))]\n",
    "new_voc = dict(zip(nouns_verbs, range(0, len(nouns_verbs))))\n",
    "new_voc = dict((k, voc[k]) for k in nouns_verbs)\n",
    "new_voc = dict(zip(list(new_voc.keys()), range(0,len(new_voc))))\n",
    "\n",
    "# vectorize once more using new vocabulary\n",
    "tfidf_vect_new = TfidfVectorizer(stop_words=stop_words,vocabulary = new_voc)\n",
    "tfidf_vect_new.fit(X_train)\n",
    "print(\"Length of New Vocab: {}\".format(len(tfidf_vect_new.vocabulary_)))\n"
   ]
  },
  {
   "cell_type": "code",
   "execution_count": 12,
   "metadata": {},
   "outputs": [],
   "source": [
    "# TRAIN NEW VOCAB\n",
    "X_train_new_vocab = tfidf_vect_new.transform(X_train)\n",
    "X_test_new_vocab = tfidf_vect_new.transform(X_test)"
   ]
  },
  {
   "cell_type": "markdown",
   "metadata": {},
   "source": [
    "#### Logistic Regression (Tf-Idf New Vocab)"
   ]
  },
  {
   "cell_type": "code",
   "execution_count": 13,
   "metadata": {},
   "outputs": [
    {
     "name": "stdout",
     "output_type": "stream",
     "text": [
      "Classification report for test set:\n",
      "              precision    recall  f1-score   support\n",
      "\n",
      "           0       0.59      0.72      0.65      2112\n",
      "           1       0.59      0.44      0.50      1888\n",
      "\n",
      "    accuracy                           0.59      4000\n",
      "   macro avg       0.59      0.58      0.58      4000\n",
      "weighted avg       0.59      0.59      0.58      4000\n",
      "\n"
     ]
    },
    {
     "data": {
      "image/png": "[encoded data removed]",
      "text/plain": [
       "<Figure size 432x288 with 1 Axes>"
      ]
     },
     "metadata": {
      "needs_background": "light"
     },
     "output_type": "display_data"
    }
   ],
   "source": [
    "plot_roc_cv(X_train_new_vocab, X_test_new_vocab, sex_train,sex_test, lr_mod, \"Logistic Regression\")"
   ]
  },
  {
   "cell_type": "markdown",
   "metadata": {},
   "source": [
    "#### Multinomial Naive Bayes (Tf-Idf New Vocab)"
   ]
  },
  {
   "cell_type": "code",
   "execution_count": 14,
   "metadata": {},
   "outputs": [
    {
     "name": "stdout",
     "output_type": "stream",
     "text": [
      "Classification report for test set:\n",
      "              precision    recall  f1-score   support\n",
      "\n",
      "           0       0.58      0.78      0.67      2112\n",
      "           1       0.60      0.37      0.46      1888\n",
      "\n",
      "    accuracy                           0.59      4000\n",
      "   macro avg       0.59      0.57      0.56      4000\n",
      "weighted avg       0.59      0.59      0.57      4000\n",
      "\n"
     ]
    },
    {
     "data": {
      "image/png": "[encoded data removed]",
      "text/plain": [
       "<Figure size 432x288 with 1 Axes>"
      ]
     },
     "metadata": {
      "needs_background": "light"
     },
     "output_type": "display_data"
    }
   ],
   "source": [
    "plot_roc_cv(X_train_new_vocab, X_test_new_vocab, sex_train,sex_test, mnb_mod, \"Multi. Naive Bayes\")"
   ]
  },
  {
   "cell_type": "markdown",
   "metadata": {},
   "source": [
    "### II. C) Word2Vec"
   ]
  },
  {
   "cell_type": "code",
   "execution_count": 15,
   "metadata": {},
   "outputs": [],
   "source": [
    "### WOrd2Vec\n",
    "emb_size = 128\n",
    "\n",
    "#Initialize model_w2v and build vocabularies\n",
    "model_w2v = Word2Vec(size=emb_size, min_count=5)\n",
    "model_w2v.build_vocab(X_train) \n",
    "model_w2v.train(X_train, total_examples=model_w2v.corpus_count, epochs=500)\n",
    "\n",
    "#Build word vector for training set \n",
    "def build_word2vec_from_text(model_w2v, sentence, emb_size):\n",
    "    emb_vec = np.zeros(emb_size).reshape((1, emb_size))\n",
    "    count = 0.\n",
    "    for word in sentence:\n",
    "        try:\n",
    "            emb_vec += model_w2v[word].reshape((1, emb_size))\n",
    "            count += 1.\n",
    "        except KeyError:\n",
    "            continue\n",
    "    if count != 0:\n",
    "        emb_vec /= count\n",
    "    return emb_vec\n",
    "\n",
    "X_train_vec = np.concatenate([build_word2vec_from_text(model_w2v, d, emb_size) for d in X_train], axis=0)\n",
    "X_test_vec =np.concatenate([build_word2vec_from_text(model_w2v, d, emb_size) for d in X_test])\n",
    "\n",
    "\n",
    "# you can test with MinMaxNormalization\n",
    "scale = StandardScaler()\n",
    "scale.fit(X_train_vec)\n",
    "X_train_scaled = sparse.csr_matrix(scale.transform(X_train_vec))\n",
    "X_test_scaled = sparse.csr_matrix(scale.transform(X_test_vec))"
   ]
  },
  {
   "cell_type": "markdown",
   "metadata": {},
   "source": [
    "#### Logistic Regression (Word2Vec)"
   ]
  },
  {
   "cell_type": "code",
   "execution_count": 16,
   "metadata": {},
   "outputs": [
    {
     "name": "stdout",
     "output_type": "stream",
     "text": [
      "Classification report for test set:\n",
      "              precision    recall  f1-score   support\n",
      "\n",
      "           0       0.55      0.81      0.65      2112\n",
      "           1       0.54      0.25      0.34      1888\n",
      "\n",
      "    accuracy                           0.54      4000\n",
      "   macro avg       0.54      0.53      0.49      4000\n",
      "weighted avg       0.54      0.54      0.50      4000\n",
      "\n"
     ]
    },
    {
     "data": {
      "image/png": "[encoded data removed]",
      "text/plain": [
       "<Figure size 432x288 with 1 Axes>"
      ]
     },
     "metadata": {
      "needs_background": "light"
     },
     "output_type": "display_data"
    }
   ],
   "source": [
    "plot_roc_cv(X_train_scaled, X_test_scaled, sex_train,sex_test, lr_mod, \"Logistic Regression\")"
   ]
  },
  {
   "cell_type": "markdown",
   "metadata": {},
   "source": [
    "#### Random Forest (Word2Vec)"
   ]
  },
  {
   "cell_type": "code",
   "execution_count": 17,
   "metadata": {},
   "outputs": [
    {
     "name": "stdout",
     "output_type": "stream",
     "text": [
      "Classification report for test set:\n",
      "              precision    recall  f1-score   support\n",
      "\n",
      "           0       0.57      0.67      0.61      2112\n",
      "           1       0.53      0.42      0.47      1888\n",
      "\n",
      "    accuracy                           0.55      4000\n",
      "   macro avg       0.55      0.55      0.54      4000\n",
      "weighted avg       0.55      0.55      0.55      4000\n",
      "\n"
     ]
    },
    {
     "data": {
      "image/png": "[encoded data removed]",
      "text/plain": [
       "<Figure size 432x288 with 1 Axes>"
      ]
     },
     "metadata": {
      "needs_background": "light"
     },
     "output_type": "display_data"
    }
   ],
   "source": [
    "rf_mod = RandomForestClassifier(n_estimators=100, random_state=42)\n",
    "plot_roc_cv(X_train_scaled, X_test_scaled, sex_train,sex_test, rf_mod, \"Random forest\")"
   ]
  },
  {
   "cell_type": "markdown",
   "metadata": {},
   "source": [
    "### II. D) Neural Network (with Tf-Idf Embeddings)"
   ]
  },
  {
   "cell_type": "code",
   "execution_count": 18,
   "metadata": {},
   "outputs": [
    {
     "name": "stdout",
     "output_type": "stream",
     "text": [
      "Model: \"sequential_1\"\n",
      "_________________________________________________________________\n",
      "Layer (type)                 Output Shape              Param #   \n",
      "=================================================================\n",
      "dense_1 (Dense)              (None, 50)                52600     \n",
      "_________________________________________________________________\n",
      "dense_2 (Dense)              (None, 2)                 102       \n",
      "_________________________________________________________________\n",
      "activation_1 (Activation)    (None, 2)                 0         \n",
      "=================================================================\n",
      "Total params: 52,702\n",
      "Trainable params: 52,702\n",
      "Non-trainable params: 0\n",
      "_________________________________________________________________\n",
      "Train on 12800 samples, validate on 3200 samples\n",
      "Epoch 1/100\n",
      "12800/12800 [==============================] - 0s 31us/step - loss: 0.7106 - accuracy: 0.5445 - val_loss: 0.6815 - val_accuracy: 0.5831\n",
      "\n",
      "Epoch 00001: val_accuracy improved from -inf to 0.58312, saving model to best_model.h5\n",
      "Epoch 2/100\n",
      "12800/12800 [==============================] - 0s 14us/step - loss: 0.6613 - accuracy: 0.5905 - val_loss: 0.6833 - val_accuracy: 0.5900\n",
      "\n",
      "Epoch 00002: val_accuracy improved from 0.58312 to 0.59000, saving model to best_model.h5\n",
      "Epoch 3/100\n",
      "12800/12800 [==============================] - 0s 14us/step - loss: 0.6472 - accuracy: 0.6034 - val_loss: 0.6857 - val_accuracy: 0.5909\n",
      "\n",
      "Epoch 00003: val_accuracy improved from 0.59000 to 0.59094, saving model to best_model.h5\n",
      "Epoch 4/100\n",
      "12800/12800 [==============================] - 0s 15us/step - loss: 0.6370 - accuracy: 0.6124 - val_loss: 0.6910 - val_accuracy: 0.5984\n",
      "\n",
      "Epoch 00004: val_accuracy improved from 0.59094 to 0.59844, saving model to best_model.h5\n",
      "Epoch 5/100\n",
      "12800/12800 [==============================] - 0s 14us/step - loss: 0.6281 - accuracy: 0.6180 - val_loss: 0.6994 - val_accuracy: 0.5928\n",
      "\n",
      "Epoch 00005: val_accuracy did not improve from 0.59844\n",
      "Epoch 6/100\n",
      "12800/12800 [==============================] - 0s 15us/step - loss: 0.6216 - accuracy: 0.6243 - val_loss: 0.7092 - val_accuracy: 0.5922\n",
      "\n",
      "Epoch 00006: val_accuracy did not improve from 0.59844\n",
      "Epoch 7/100\n",
      "12800/12800 [==============================] - 0s 16us/step - loss: 0.6156 - accuracy: 0.6267 - val_loss: 0.7132 - val_accuracy: 0.5925\n",
      "\n",
      "Epoch 00007: val_accuracy did not improve from 0.59844\n",
      "Epoch 8/100\n",
      "12800/12800 [==============================] - 0s 14us/step - loss: 0.6111 - accuracy: 0.6302 - val_loss: 0.7112 - val_accuracy: 0.5906\n",
      "\n",
      "Epoch 00008: val_accuracy did not improve from 0.59844\n",
      "Epoch 9/100\n",
      "12800/12800 [==============================] - 0s 14us/step - loss: 0.6064 - accuracy: 0.6337 - val_loss: 0.7267 - val_accuracy: 0.5891\n",
      "\n",
      "Epoch 00009: val_accuracy did not improve from 0.59844\n",
      "Epoch 10/100\n",
      "12800/12800 [==============================] - 0s 14us/step - loss: 0.6024 - accuracy: 0.6350 - val_loss: 0.7292 - val_accuracy: 0.5863\n",
      "\n",
      "Epoch 00010: val_accuracy did not improve from 0.59844\n",
      "Epoch 11/100\n",
      "12800/12800 [==============================] - 0s 14us/step - loss: 0.5991 - accuracy: 0.6356 - val_loss: 0.7307 - val_accuracy: 0.5897\n",
      "\n",
      "Epoch 00011: val_accuracy did not improve from 0.59844\n",
      "Epoch 00011: early stopping\n"
     ]
    }
   ],
   "source": [
    "# Check if Keras uses GPU\n",
    "from keras import backend as K\n",
    "\n",
    "train_sentences = X_train.values\n",
    "test_sentences = X_test.values\n",
    "train_labels = sex_train.values\n",
    "test_labels = sex_test.values\n",
    "\n",
    "num_labels = 2\n",
    "vocab_size = int(len(tfidf_vect_full.vocabulary_)*0.05)\n",
    "batch_size = 1000\n",
    "embedding_vector_length = 300\n",
    "\n",
    "tokenizer = Tokenizer(num_words=vocab_size)\n",
    "tokenizer.fit_on_texts(train_sentences)\n",
    "x_train = tokenizer.texts_to_matrix(train_sentences, mode='tfidf')\n",
    "x_test = tokenizer.texts_to_matrix(test_sentences, mode='tfidf')\n",
    "\n",
    "encoder = LabelBinarizer()\n",
    "encoder.fit(train_labels)\n",
    "y_train = encoder.transform(train_labels)\n",
    "y_train = np.hstack((y_train, 1 - y_train))\n",
    "y_test = encoder.transform(test_labels)\n",
    "y_test = np.hstack((y_test, 1 - y_test))\n",
    "\n",
    "dnn_mod = Sequential()\n",
    "dnn_mod.add(Dense(50, input_shape=(vocab_size,)))\n",
    "dnn_mod.add(Dense(num_labels))\n",
    "dnn_mod.add(Activation('sigmoid'))\n",
    "dnn_mod.summary()\n",
    "\n",
    "random.seed(123) \n",
    "\n",
    "    \n",
    "dnn_mod.compile(loss='categorical_crossentropy',\n",
    "              optimizer='adam',\n",
    "              metrics=['accuracy'])\n",
    "es = EarlyStopping(monitor='val_loss', mode='min', verbose=1, patience=10) \n",
    "mc = ModelCheckpoint('best_model.h5', monitor='val_accuracy', mode='max', \n",
    "                     verbose=1, save_best_only=True)\n",
    "history = dnn_mod.fit(x_train, y_train,\n",
    "                    batch_size=batch_size,\n",
    "                    epochs=100,\n",
    "                    verbose=1,\n",
    "                    validation_split=0.2, callbacks = [es, mc])"
   ]
  },
  {
   "cell_type": "code",
   "execution_count": 19,
   "metadata": {},
   "outputs": [
    {
     "name": "stdout",
     "output_type": "stream",
     "text": [
      "Classification report for test set:\n",
      "              precision    recall  f1-score   support\n",
      "\n",
      "           0       0.59      0.46      0.51      1888\n",
      "           1       0.59      0.71      0.65      2112\n",
      "\n",
      "    accuracy                           0.59      4000\n",
      "   macro avg       0.59      0.58      0.58      4000\n",
      "weighted avg       0.59      0.59      0.58      4000\n",
      "\n"
     ]
    },
    {
     "data": {
      "text/plain": [
       "<matplotlib.legend.Legend at 0x1a94a8d2d0>"
      ]
     },
     "execution_count": 19,
     "metadata": {},
     "output_type": "execute_result"
    },
    {
     "data": {
      "image/png": "[encoded data removed]",
      "text/plain": [
       "<Figure size 432x288 with 1 Axes>"
      ]
     },
     "metadata": {
      "needs_background": "light"
     },
     "output_type": "display_data"
    }
   ],
   "source": [
    "sex_pred_train= dnn_mod.predict_proba(x_train)[:,1] \n",
    "sex_train_binary = sex_train.apply(lambda x: 1 if x ==0 else 0)\n",
    "fpr_train, tpr_train, cutoffs = roc_curve(sex_train_binary, sex_pred_train)\n",
    "\n",
    "sex_pred_test= dnn_mod.predict_proba(x_test)[:,1] \n",
    "sex_test_binary = sex_test.apply(lambda x: 1 if x ==0 else 0)\n",
    "fpr_test, tpr_test, cutoffs = roc_curve(sex_test_binary, sex_pred_test)\n",
    "\n",
    "sex_pred_class_test=dnn_mod.predict_classes(x_test)\n",
    "print(\"Classification report for test set:\")\n",
    "print(classification_report(sex_test_binary,sex_pred_class_test))\n",
    "\n",
    "plt.title(\"ROC Curve for DNN Model of Sex\")\n",
    "plt.ylabel(\"True Positive Rate\")\n",
    "plt.xlabel(\"False Positive Rate\")\n",
    "roc_train, = plt.plot(fpr_train, tpr_train, \n",
    "                          label =\"AUC train: {:.3}\".format(auc(fpr_train, tpr_train)), \n",
    "                      c= \"blue\")\n",
    "roc_test, = plt.plot(fpr_test, tpr_test, \n",
    "                         label =\"AUC test: {:.3}\".format(auc(fpr_test, tpr_test)),\n",
    "                         c= \"orange\")\n",
    "chance, = plt.plot([0, 1], [0, 1], linestyle='--', lw=2, color='r',\n",
    "                       label = \"Chance\", alpha=.8)\n",
    "plt.legend(handles=[roc_train,roc_test, chance])"
   ]
  },
  {
   "cell_type": "markdown",
   "metadata": {},
   "source": [
    "#### Conclusion: Multinomial Naive Bayes with Tf-Idf Embeddings yielded the best testing metrics, so we will use it to predict \"Sex\" for the provided test dataset"
   ]
  },
  {
   "cell_type": "markdown",
   "metadata": {},
   "source": [
    "## III. Predicting Sex With Multinomial Naive Bayes and Tf-Idf Embeddings"
   ]
  },
  {
   "cell_type": "code",
   "execution_count": 20,
   "metadata": {},
   "outputs": [],
   "source": [
    "#########Predict on a sample of the provided test dataset #########\n",
    "data_test = pd.read_csv(\"test.csv\")\n",
    "data_test = data_test.drop(columns=[\"age\", \"sex\"]).copy()\n",
    "data_test = data_test.dropna()\n",
    "data_test = data_test.sample(n = samp_size, random_state=123)\n",
    "data_test= clean_text(data_test)\n",
    "\n",
    "# fit tfidf on full train data\n",
    "tfidf_vect_full.fit(data_train.text)\n",
    "\n",
    "X_data_train = tfidf_vect_full.transform(data_train.text)\n",
    "y = data_train.sex.map({'F':1, 'M':0})\n",
    "mnb_mod = MultinomialNB()\n",
    "mnb_mod.fit(X_data_train, y)\n",
    "\n",
    "X_data_test = tfidf_vect_full.transform(data_test.text)\n",
    "sex_pred_final = mnb_mod.predict(X_data_test)\n",
    "sex_pred_final = np.where(sex_pred_final==1, \"F\", \"M\")\n",
    "data_test[\"sex_prediction\"] = sex_pred_final"
   ]
  },
  {
   "cell_type": "markdown",
   "metadata": {},
   "source": [
    "## IV. Modeling Age"
   ]
  },
  {
   "cell_type": "code",
   "execution_count": 21,
   "metadata": {},
   "outputs": [],
   "source": [
    "# AGE MODELING\n",
    " ######### FULL VOCAB ###################\n",
    "def score_age_model(x_train, x_test, y_train, y_test, mod):\n",
    "    mod.fit(x_train,y_train)\n",
    "    pred_train = mod.predict(x_train)\n",
    "    print('Root Mean Squared Error:',math.sqrt(metrics.mean_squared_error(y_train, pred_train)))\n",
    "    pred_test = mod.predict(x_test)\n",
    "    print('Root Mean Squared Error (Test):', math.sqrt(metrics.mean_squared_error(y_test, pred_test)))\n"
   ]
  },
  {
   "cell_type": "markdown",
   "metadata": {},
   "source": [
    "### IV. A) Tf-Idf Full Vocabulary"
   ]
  },
  {
   "cell_type": "code",
   "execution_count": 22,
   "metadata": {},
   "outputs": [
    {
     "name": "stdout",
     "output_type": "stream",
     "text": [
      "Linear Regression scores (Tf-idf full vocab):\n",
      "Root Mean Squared Error: 6.52588505126672\n",
      "Root Mean Squared Error (Test): 120.50952176060731\n"
     ]
    }
   ],
   "source": [
    "# Linear Regression\n",
    "lm = LinearRegression()\n",
    "print(\"Linear Regression scores (Tf-idf full vocab):\")\n",
    "score_age_model(X_train_full_vocab, X_test_full_vocab, age_train, age_test, lm)\n"
   ]
  },
  {
   "cell_type": "code",
   "execution_count": 23,
   "metadata": {},
   "outputs": [
    {
     "name": "stdout",
     "output_type": "stream",
     "text": [
      "Random Forest scores (Tf-idf full vocab)):\n",
      "Root Mean Squared Error: 7.082826942683267\n",
      "Root Mean Squared Error (Test): 16.85135009428028\n"
     ]
    }
   ],
   "source": [
    "#  Random Forest\n",
    "print(\"Random Forest scores (Tf-idf full vocab)):\")\n",
    "score_age_model(X_train_full_vocab, X_test_full_vocab, age_train, age_test, rf_mod)"
   ]
  },
  {
   "cell_type": "markdown",
   "metadata": {},
   "source": [
    "### IV. B) Tf-Idf Reduced Vocabulary (Nouns and Verbs only)"
   ]
  },
  {
   "cell_type": "code",
   "execution_count": 24,
   "metadata": {},
   "outputs": [
    {
     "name": "stdout",
     "output_type": "stream",
     "text": [
      "Linear Regression (Tf-idf new vocab):\n",
      "Root Mean Squared Error: 8.455108774945533\n",
      "Root Mean Squared Error (Test): 78.2802023409047\n"
     ]
    }
   ],
   "source": [
    "######### NEW VOCAB ############\n",
    "print(\"Linear Regression (Tf-idf new vocab):\")\n",
    "# Lin regression\n",
    "score_age_model(X_train_new_vocab, X_test_new_vocab, age_train, age_test, lm)\n"
   ]
  },
  {
   "cell_type": "code",
   "execution_count": 25,
   "metadata": {},
   "outputs": [
    {
     "name": "stdout",
     "output_type": "stream",
     "text": [
      "Random Forest scores (Tf-idf new vocab):\n",
      "Root Mean Squared Error: 8.045915112651885\n",
      "Root Mean Squared Error (Test): 17.13427121298131\n"
     ]
    }
   ],
   "source": [
    "print(\"Random Forest scores (Tf-idf new vocab):\")\n",
    "#  Random Forest\n",
    "score_age_model(X_train_new_vocab, X_test_new_vocab, age_train, age_test, rf_mod)\n"
   ]
  },
  {
   "cell_type": "markdown",
   "metadata": {},
   "source": [
    "### IV. C) Word2Vec"
   ]
  },
  {
   "cell_type": "code",
   "execution_count": 26,
   "metadata": {},
   "outputs": [
    {
     "name": "stdout",
     "output_type": "stream",
     "text": [
      "Linear Regression scores (Word2vec):\n",
      "Root Mean Squared Error: 13.07775515617661\n",
      "Root Mean Squared Error (Test): 13.00228063481606\n"
     ]
    }
   ],
   "source": [
    "##### Word2vec #####\n",
    "# Lin Reg\n",
    "print(\"Linear Regression scores (Word2vec):\")\n",
    "score_age_model(X_train_scaled, X_test_scaled, age_train, age_test, lm)"
   ]
  },
  {
   "cell_type": "code",
   "execution_count": 27,
   "metadata": {},
   "outputs": [
    {
     "name": "stdout",
     "output_type": "stream",
     "text": [
      "Random Forest scores (Word2vec):\n",
      "Root Mean Squared Error: 7.0482533297264505\n",
      "Root Mean Squared Error (Test): 16.054173912101486\n"
     ]
    }
   ],
   "source": [
    "#  Random Forest\n",
    "print(\"Random Forest scores (Word2vec):\")\n",
    "score_age_model(X_train_scaled, X_test_scaled, age_train, age_test, rf_mod)"
   ]
  },
  {
   "cell_type": "markdown",
   "metadata": {},
   "source": [
    "#### Conclusion: Linear regression with Word2Vec yielded the lowest testing RMSE, therefore, we will use this model to predict age."
   ]
  },
  {
   "cell_type": "markdown",
   "metadata": {},
   "source": [
    "## V. Predicting Age with Linear Regression and Word2Vec"
   ]
  },
  {
   "cell_type": "code",
   "execution_count": 28,
   "metadata": {},
   "outputs": [
    {
     "data": {
      "text/html": [
       "<div>\n",
       "<style scoped>\n",
       "    .dataframe tbody tr th:only-of-type {\n",
       "        vertical-align: middle;\n",
       "    }\n",
       "\n",
       "    .dataframe tbody tr th {\n",
       "        vertical-align: top;\n",
       "    }\n",
       "\n",
       "    .dataframe thead th {\n",
       "        text-align: right;\n",
       "    }\n",
       "</style>\n",
       "<table border=\"1\" class=\"dataframe\">\n",
       "  <thead>\n",
       "    <tr style=\"text-align: right;\">\n",
       "      <th></th>\n",
       "      <th>ID</th>\n",
       "      <th>sex_prediction</th>\n",
       "      <th>age_prediction</th>\n",
       "    </tr>\n",
       "  </thead>\n",
       "  <tbody>\n",
       "    <tr>\n",
       "      <th>1235190</th>\n",
       "      <td>1235191</td>\n",
       "      <td>M</td>\n",
       "      <td>75.0</td>\n",
       "    </tr>\n",
       "    <tr>\n",
       "      <th>2127044</th>\n",
       "      <td>2127045</td>\n",
       "      <td>M</td>\n",
       "      <td>56.0</td>\n",
       "    </tr>\n",
       "    <tr>\n",
       "      <th>2285345</th>\n",
       "      <td>2285346</td>\n",
       "      <td>M</td>\n",
       "      <td>59.0</td>\n",
       "    </tr>\n",
       "    <tr>\n",
       "      <th>2957002</th>\n",
       "      <td>2957003</td>\n",
       "      <td>M</td>\n",
       "      <td>64.0</td>\n",
       "    </tr>\n",
       "    <tr>\n",
       "      <th>1232202</th>\n",
       "      <td>1232203</td>\n",
       "      <td>F</td>\n",
       "      <td>67.0</td>\n",
       "    </tr>\n",
       "  </tbody>\n",
       "</table>\n",
       "</div>"
      ],
      "text/plain": [
       "              ID sex_prediction  age_prediction\n",
       "1235190  1235191              M            75.0\n",
       "2127044  2127045              M            56.0\n",
       "2285345  2285346              M            59.0\n",
       "2957002  2957003              M            64.0\n",
       "1232202  1232203              F            67.0"
      ]
     },
     "execution_count": 28,
     "metadata": {},
     "output_type": "execute_result"
    }
   ],
   "source": [
    "# Train Word2vec on full training set\n",
    "model_w2v.train(data_train.text, total_examples=model_w2v.corpus_count, epochs=500)\n",
    "X_train_vec = np.concatenate([build_word2vec_from_text(model_w2v, d, emb_size) for d in data_train.text], axis=0)\n",
    "y = data_train.age\n",
    "scale.fit(X_train_vec)\n",
    "# Fit word2vec on train and test sets\n",
    "X_train_scaled = sparse.csr_matrix(scale.transform(X_train_vec))\n",
    "lm.fit(X_train_scaled, y)\n",
    "X_test_vec = np.concatenate([build_word2vec_from_text(model_w2v, d, emb_size) for d in data_test.text], axis=0)\n",
    "# predict age based on Linear Regression\n",
    "age_pred_final = lm.predict(X_test_vec)\n",
    "data_test[\"age_prediction\"] = np.array(round(pd.DataFrame(age_pred_final),0))\n",
    "data_test = data_test.drop(columns = [\"keywords\",\"frequency\", \"words\", \"words_stem\", \"text\", \"text_token\"])\n",
    "data_test.head()"
   ]
  },
  {
   "cell_type": "markdown",
   "metadata": {},
   "source": [
    "Save results to csv"
   ]
  },
  {
   "cell_type": "code",
   "execution_count": 29,
   "metadata": {},
   "outputs": [],
   "source": [
    "data_test.to_csv(\"test_predictions.csv\")"
   ]
  }
 ],
 "metadata": {
  "kernelspec": {
   "display_name": "Python 3",
   "language": "python",
   "name": "python3"
  },
  "language_info": {
   "codemirror_mode": {
    "name": "ipython",
    "version": 3
   },
   "file_extension": ".py",
   "mimetype": "text/x-python",
   "name": "python",
   "nbconvert_exporter": "python",
   "pygments_lexer": "ipython3",
   "version": "3.7.6"
  }
 },
 "nbformat": 4,
 "nbformat_minor": 4
}
